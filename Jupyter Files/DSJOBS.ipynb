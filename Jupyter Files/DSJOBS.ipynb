{
 "cells": [
  {
   "cell_type": "code",
   "execution_count": 1,
   "metadata": {},
   "outputs": [],
   "source": [
    "import pandas as pd\n",
    "from matplotlib import pyplot as plt\n",
    "import seaborn as sns"
   ]
  },
  {
   "cell_type": "code",
   "execution_count": 2,
   "metadata": {},
   "outputs": [],
   "source": [
    "df = pd.read_csv('builtin_DS_jobs_030423.csv')"
   ]
  },
  {
   "cell_type": "code",
   "execution_count": 3,
   "metadata": {},
   "outputs": [
    {
     "data": {
      "text/plain": [
       "Index(['Unnamed: 0', 'company_alias', 'company_perks', 'elite',\n",
       "       'high_volume_poster', 'company_id', 'job_slots', 'limited_listing',\n",
       "       'locations', 'premium', 'company_title', 'total_employees', 'job_alias',\n",
       "       'job_description', 'category_id', 'company_size', 'easy_apply',\n",
       "       'yrs_experience', 'hot_job_score', 'apply_link', 'hybrid', 'job_id',\n",
       "       'industry_id', 'is_national', 'job_location', 'original_location',\n",
       "       'remote', 'remote_status', 'salary_max', 'salary_min',\n",
       "       'salary_single_value', 'salary_type', 'sort_date',\n",
       "       'targeted_remote_locations', 'job_title', 'working_options'],\n",
       "      dtype='object')"
      ]
     },
     "execution_count": 3,
     "metadata": {},
     "output_type": "execute_result"
    }
   ],
   "source": [
    "df.columns"
   ]
  },
  {
   "cell_type": "code",
   "execution_count": 4,
   "metadata": {},
   "outputs": [],
   "source": [
    "df.drop(columns=['Unnamed: 0'], inplace=True)"
   ]
  },
  {
   "cell_type": "code",
   "execution_count": 23,
   "metadata": {},
   "outputs": [
    {
     "data": {
      "text/html": [
       "<div>\n",
       "<style scoped>\n",
       "    .dataframe tbody tr th:only-of-type {\n",
       "        vertical-align: middle;\n",
       "    }\n",
       "\n",
       "    .dataframe tbody tr th {\n",
       "        vertical-align: top;\n",
       "    }\n",
       "\n",
       "    .dataframe thead th {\n",
       "        text-align: right;\n",
       "    }\n",
       "</style>\n",
       "<table border=\"1\" class=\"dataframe\">\n",
       "  <thead>\n",
       "    <tr style=\"text-align: right;\">\n",
       "      <th></th>\n",
       "      <th>company_alias</th>\n",
       "      <th>company_perks</th>\n",
       "      <th>elite</th>\n",
       "      <th>high_volume_poster</th>\n",
       "      <th>company_id</th>\n",
       "      <th>job_slots</th>\n",
       "      <th>limited_listing</th>\n",
       "      <th>locations</th>\n",
       "      <th>premium</th>\n",
       "      <th>company_title</th>\n",
       "      <th>...</th>\n",
       "      <th>remote</th>\n",
       "      <th>remote_status</th>\n",
       "      <th>salary_max</th>\n",
       "      <th>salary_min</th>\n",
       "      <th>salary_single_value</th>\n",
       "      <th>salary_type</th>\n",
       "      <th>sort_date</th>\n",
       "      <th>targeted_remote_locations</th>\n",
       "      <th>job_title</th>\n",
       "      <th>working_options</th>\n",
       "    </tr>\n",
       "  </thead>\n",
       "  <tbody>\n",
       "    <tr>\n",
       "      <th>0</th>\n",
       "      <td>/company/conga</td>\n",
       "      <td>[]</td>\n",
       "      <td>True</td>\n",
       "      <td>False</td>\n",
       "      <td>64999</td>\n",
       "      <td>0</td>\n",
       "      <td>False</td>\n",
       "      <td>NaN</td>\n",
       "      <td>False</td>\n",
       "      <td>Conga</td>\n",
       "      <td>...</td>\n",
       "      <td>IGNORE_REMOTE_FLAG</td>\n",
       "      <td>REMOTE_ENABLED</td>\n",
       "      <td>0.0</td>\n",
       "      <td>0.0</td>\n",
       "      <td>125620.0</td>\n",
       "      <td>annual</td>\n",
       "      <td>2023-03-04 11:35:56</td>\n",
       "      <td>['Chicago', 'Colorado', 'Austin', 'Seattle', '...</td>\n",
       "      <td>Director, Analyst Relations-Remote USA</td>\n",
       "      <td>['HYBRID', 'REMOTE', 'IN-OFFICE']</td>\n",
       "    </tr>\n",
       "    <tr>\n",
       "      <th>1</th>\n",
       "      <td>/company/peloton</td>\n",
       "      <td>[]</td>\n",
       "      <td>True</td>\n",
       "      <td>False</td>\n",
       "      <td>64369</td>\n",
       "      <td>0</td>\n",
       "      <td>False</td>\n",
       "      <td>['Chicago', 'Colorado', 'Los Angeles', 'Austin...</td>\n",
       "      <td>False</td>\n",
       "      <td>Peloton</td>\n",
       "      <td>...</td>\n",
       "      <td>REMOTE_ENABLED</td>\n",
       "      <td>REMOTE_ENABLED</td>\n",
       "      <td>0.0</td>\n",
       "      <td>0.0</td>\n",
       "      <td>0.0</td>\n",
       "      <td>NaN</td>\n",
       "      <td>2023-03-04 11:22:56</td>\n",
       "      <td>['Chicago', 'Colorado', 'Los Angeles', 'Austin...</td>\n",
       "      <td>Staff Data Engineer</td>\n",
       "      <td>['REMOTE']</td>\n",
       "    </tr>\n",
       "    <tr>\n",
       "      <th>2</th>\n",
       "      <td>/company/capital-one</td>\n",
       "      <td>[]</td>\n",
       "      <td>True</td>\n",
       "      <td>False</td>\n",
       "      <td>81846</td>\n",
       "      <td>0</td>\n",
       "      <td>False</td>\n",
       "      <td>['Chicago', 'Colorado', 'Los Angeles', 'Austin...</td>\n",
       "      <td>False</td>\n",
       "      <td>Capital One</td>\n",
       "      <td>...</td>\n",
       "      <td>IGNORE_REMOTE_FLAG</td>\n",
       "      <td>REMOTE_ENABLED</td>\n",
       "      <td>184748.0</td>\n",
       "      <td>132699.0</td>\n",
       "      <td>0.0</td>\n",
       "      <td>annual</td>\n",
       "      <td>2023-03-04 19:45:25</td>\n",
       "      <td>['Chicago', 'Colorado', 'Los Angeles', 'Austin...</td>\n",
       "      <td>Senior Data Engineer (Remote-Eligible)</td>\n",
       "      <td>['HYBRID', 'REMOTE', 'IN-OFFICE']</td>\n",
       "    </tr>\n",
       "    <tr>\n",
       "      <th>3</th>\n",
       "      <td>/company/warner-bros-discovery</td>\n",
       "      <td>[]</td>\n",
       "      <td>True</td>\n",
       "      <td>True</td>\n",
       "      <td>64944</td>\n",
       "      <td>0</td>\n",
       "      <td>False</td>\n",
       "      <td>NaN</td>\n",
       "      <td>False</td>\n",
       "      <td>Warner Bros. Discovery</td>\n",
       "      <td>...</td>\n",
       "      <td>NOT_REMOTE</td>\n",
       "      <td>NOT_REMOTE</td>\n",
       "      <td>279492.0</td>\n",
       "      <td>150496.0</td>\n",
       "      <td>0.0</td>\n",
       "      <td>annual</td>\n",
       "      <td>2023-03-04 05:41:09</td>\n",
       "      <td>NaN</td>\n",
       "      <td>Principal Data Scientist</td>\n",
       "      <td>['IN-OFFICE']</td>\n",
       "    </tr>\n",
       "    <tr>\n",
       "      <th>4</th>\n",
       "      <td>/company/restaurant-brands-international</td>\n",
       "      <td>[]</td>\n",
       "      <td>True</td>\n",
       "      <td>False</td>\n",
       "      <td>64944</td>\n",
       "      <td>0</td>\n",
       "      <td>False</td>\n",
       "      <td>NaN</td>\n",
       "      <td>False</td>\n",
       "      <td>Restaurant Brands International</td>\n",
       "      <td>...</td>\n",
       "      <td>NOT_REMOTE</td>\n",
       "      <td>NOT_REMOTE</td>\n",
       "      <td>154310.0</td>\n",
       "      <td>83090.0</td>\n",
       "      <td>0.0</td>\n",
       "      <td>annual</td>\n",
       "      <td>2023-03-04 05:38:28</td>\n",
       "      <td>NaN</td>\n",
       "      <td>Sr. Manager, Business Analytics</td>\n",
       "      <td>['IN-OFFICE']</td>\n",
       "    </tr>\n",
       "    <tr>\n",
       "      <th>...</th>\n",
       "      <td>...</td>\n",
       "      <td>...</td>\n",
       "      <td>...</td>\n",
       "      <td>...</td>\n",
       "      <td>...</td>\n",
       "      <td>...</td>\n",
       "      <td>...</td>\n",
       "      <td>...</td>\n",
       "      <td>...</td>\n",
       "      <td>...</td>\n",
       "      <td>...</td>\n",
       "      <td>...</td>\n",
       "      <td>...</td>\n",
       "      <td>...</td>\n",
       "      <td>...</td>\n",
       "      <td>...</td>\n",
       "      <td>...</td>\n",
       "      <td>...</td>\n",
       "      <td>...</td>\n",
       "      <td>...</td>\n",
       "      <td>...</td>\n",
       "    </tr>\n",
       "    <tr>\n",
       "      <th>7571</th>\n",
       "      <td>/company/deepscribe</td>\n",
       "      <td>[]</td>\n",
       "      <td>False</td>\n",
       "      <td>False</td>\n",
       "      <td>98020</td>\n",
       "      <td>0</td>\n",
       "      <td>True</td>\n",
       "      <td>[]</td>\n",
       "      <td>False</td>\n",
       "      <td>DeepScribe</td>\n",
       "      <td>...</td>\n",
       "      <td>REMOTE_ENABLED</td>\n",
       "      <td>REMOTE_ENABLED</td>\n",
       "      <td>0.0</td>\n",
       "      <td>0.0</td>\n",
       "      <td>0.0</td>\n",
       "      <td>NaN</td>\n",
       "      <td>2023-01-10 15:26:14</td>\n",
       "      <td>NaN</td>\n",
       "      <td>Data Scientist</td>\n",
       "      <td>NaN</td>\n",
       "    </tr>\n",
       "    <tr>\n",
       "      <th>7572</th>\n",
       "      <td>/company/icertis</td>\n",
       "      <td>[]</td>\n",
       "      <td>False</td>\n",
       "      <td>False</td>\n",
       "      <td>86596</td>\n",
       "      <td>0</td>\n",
       "      <td>True</td>\n",
       "      <td>[]</td>\n",
       "      <td>False</td>\n",
       "      <td>Icertis</td>\n",
       "      <td>...</td>\n",
       "      <td>NOT_REMOTE</td>\n",
       "      <td>NOT_REMOTE</td>\n",
       "      <td>0.0</td>\n",
       "      <td>0.0</td>\n",
       "      <td>0.0</td>\n",
       "      <td>NaN</td>\n",
       "      <td>2023-01-05 09:32:43</td>\n",
       "      <td>NaN</td>\n",
       "      <td>Senior Data Scientist - NLP - Remote</td>\n",
       "      <td>NaN</td>\n",
       "    </tr>\n",
       "    <tr>\n",
       "      <th>7573</th>\n",
       "      <td>/company/icertis</td>\n",
       "      <td>[]</td>\n",
       "      <td>False</td>\n",
       "      <td>False</td>\n",
       "      <td>86596</td>\n",
       "      <td>0</td>\n",
       "      <td>True</td>\n",
       "      <td>[]</td>\n",
       "      <td>False</td>\n",
       "      <td>Icertis</td>\n",
       "      <td>...</td>\n",
       "      <td>NOT_REMOTE</td>\n",
       "      <td>NOT_REMOTE</td>\n",
       "      <td>0.0</td>\n",
       "      <td>0.0</td>\n",
       "      <td>0.0</td>\n",
       "      <td>NaN</td>\n",
       "      <td>2023-01-05 09:32:34</td>\n",
       "      <td>NaN</td>\n",
       "      <td>Principal Data Scientist - NLP - Remote</td>\n",
       "      <td>NaN</td>\n",
       "    </tr>\n",
       "    <tr>\n",
       "      <th>7574</th>\n",
       "      <td>/company/bottomline-technologies</td>\n",
       "      <td>[]</td>\n",
       "      <td>False</td>\n",
       "      <td>False</td>\n",
       "      <td>89050</td>\n",
       "      <td>0</td>\n",
       "      <td>True</td>\n",
       "      <td>[]</td>\n",
       "      <td>False</td>\n",
       "      <td>Bottomline Technologies</td>\n",
       "      <td>...</td>\n",
       "      <td>NOT_REMOTE</td>\n",
       "      <td>NOT_REMOTE</td>\n",
       "      <td>0.0</td>\n",
       "      <td>0.0</td>\n",
       "      <td>0.0</td>\n",
       "      <td>NaN</td>\n",
       "      <td>2023-01-04 07:50:08</td>\n",
       "      <td>NaN</td>\n",
       "      <td>Matching Specialist</td>\n",
       "      <td>NaN</td>\n",
       "    </tr>\n",
       "    <tr>\n",
       "      <th>7575</th>\n",
       "      <td>/company/dealeron</td>\n",
       "      <td>[]</td>\n",
       "      <td>False</td>\n",
       "      <td>False</td>\n",
       "      <td>70945</td>\n",
       "      <td>0</td>\n",
       "      <td>True</td>\n",
       "      <td>[]</td>\n",
       "      <td>False</td>\n",
       "      <td>DealerOn</td>\n",
       "      <td>...</td>\n",
       "      <td>NOT_REMOTE</td>\n",
       "      <td>NOT_REMOTE</td>\n",
       "      <td>0.0</td>\n",
       "      <td>0.0</td>\n",
       "      <td>0.0</td>\n",
       "      <td>NaN</td>\n",
       "      <td>2023-01-02 00:49:44</td>\n",
       "      <td>NaN</td>\n",
       "      <td>Data Specialist I</td>\n",
       "      <td>NaN</td>\n",
       "    </tr>\n",
       "  </tbody>\n",
       "</table>\n",
       "<p>7576 rows × 35 columns</p>\n",
       "</div>"
      ],
      "text/plain": [
       "                                 company_alias company_perks  elite  \\\n",
       "0                               /company/conga            []   True   \n",
       "1                             /company/peloton            []   True   \n",
       "2                         /company/capital-one            []   True   \n",
       "3               /company/warner-bros-discovery            []   True   \n",
       "4     /company/restaurant-brands-international            []   True   \n",
       "...                                        ...           ...    ...   \n",
       "7571                       /company/deepscribe            []  False   \n",
       "7572                          /company/icertis            []  False   \n",
       "7573                          /company/icertis            []  False   \n",
       "7574          /company/bottomline-technologies            []  False   \n",
       "7575                         /company/dealeron            []  False   \n",
       "\n",
       "      high_volume_poster  company_id  job_slots  limited_listing  \\\n",
       "0                  False       64999          0            False   \n",
       "1                  False       64369          0            False   \n",
       "2                  False       81846          0            False   \n",
       "3                   True       64944          0            False   \n",
       "4                  False       64944          0            False   \n",
       "...                  ...         ...        ...              ...   \n",
       "7571               False       98020          0             True   \n",
       "7572               False       86596          0             True   \n",
       "7573               False       86596          0             True   \n",
       "7574               False       89050          0             True   \n",
       "7575               False       70945          0             True   \n",
       "\n",
       "                                              locations  premium  \\\n",
       "0                                                   NaN    False   \n",
       "1     ['Chicago', 'Colorado', 'Los Angeles', 'Austin...    False   \n",
       "2     ['Chicago', 'Colorado', 'Los Angeles', 'Austin...    False   \n",
       "3                                                   NaN    False   \n",
       "4                                                   NaN    False   \n",
       "...                                                 ...      ...   \n",
       "7571                                                 []    False   \n",
       "7572                                                 []    False   \n",
       "7573                                                 []    False   \n",
       "7574                                                 []    False   \n",
       "7575                                                 []    False   \n",
       "\n",
       "                        company_title  ...              remote  \\\n",
       "0                               Conga  ...  IGNORE_REMOTE_FLAG   \n",
       "1                             Peloton  ...      REMOTE_ENABLED   \n",
       "2                         Capital One  ...  IGNORE_REMOTE_FLAG   \n",
       "3              Warner Bros. Discovery  ...          NOT_REMOTE   \n",
       "4     Restaurant Brands International  ...          NOT_REMOTE   \n",
       "...                               ...  ...                 ...   \n",
       "7571                       DeepScribe  ...      REMOTE_ENABLED   \n",
       "7572                          Icertis  ...          NOT_REMOTE   \n",
       "7573                          Icertis  ...          NOT_REMOTE   \n",
       "7574          Bottomline Technologies  ...          NOT_REMOTE   \n",
       "7575                         DealerOn  ...          NOT_REMOTE   \n",
       "\n",
       "       remote_status salary_max  salary_min salary_single_value  salary_type  \\\n",
       "0     REMOTE_ENABLED        0.0         0.0            125620.0       annual   \n",
       "1     REMOTE_ENABLED        0.0         0.0                 0.0          NaN   \n",
       "2     REMOTE_ENABLED   184748.0    132699.0                 0.0       annual   \n",
       "3         NOT_REMOTE   279492.0    150496.0                 0.0       annual   \n",
       "4         NOT_REMOTE   154310.0     83090.0                 0.0       annual   \n",
       "...              ...        ...         ...                 ...          ...   \n",
       "7571  REMOTE_ENABLED        0.0         0.0                 0.0          NaN   \n",
       "7572      NOT_REMOTE        0.0         0.0                 0.0          NaN   \n",
       "7573      NOT_REMOTE        0.0         0.0                 0.0          NaN   \n",
       "7574      NOT_REMOTE        0.0         0.0                 0.0          NaN   \n",
       "7575      NOT_REMOTE        0.0         0.0                 0.0          NaN   \n",
       "\n",
       "                sort_date                          targeted_remote_locations  \\\n",
       "0     2023-03-04 11:35:56  ['Chicago', 'Colorado', 'Austin', 'Seattle', '...   \n",
       "1     2023-03-04 11:22:56  ['Chicago', 'Colorado', 'Los Angeles', 'Austin...   \n",
       "2     2023-03-04 19:45:25  ['Chicago', 'Colorado', 'Los Angeles', 'Austin...   \n",
       "3     2023-03-04 05:41:09                                                NaN   \n",
       "4     2023-03-04 05:38:28                                                NaN   \n",
       "...                   ...                                                ...   \n",
       "7571  2023-01-10 15:26:14                                                NaN   \n",
       "7572  2023-01-05 09:32:43                                                NaN   \n",
       "7573  2023-01-05 09:32:34                                                NaN   \n",
       "7574  2023-01-04 07:50:08                                                NaN   \n",
       "7575  2023-01-02 00:49:44                                                NaN   \n",
       "\n",
       "                                    job_title  \\\n",
       "0      Director, Analyst Relations-Remote USA   \n",
       "1                         Staff Data Engineer   \n",
       "2      Senior Data Engineer (Remote-Eligible)   \n",
       "3                    Principal Data Scientist   \n",
       "4             Sr. Manager, Business Analytics   \n",
       "...                                       ...   \n",
       "7571                           Data Scientist   \n",
       "7572     Senior Data Scientist - NLP - Remote   \n",
       "7573  Principal Data Scientist - NLP - Remote   \n",
       "7574                      Matching Specialist   \n",
       "7575                        Data Specialist I   \n",
       "\n",
       "                        working_options  \n",
       "0     ['HYBRID', 'REMOTE', 'IN-OFFICE']  \n",
       "1                            ['REMOTE']  \n",
       "2     ['HYBRID', 'REMOTE', 'IN-OFFICE']  \n",
       "3                         ['IN-OFFICE']  \n",
       "4                         ['IN-OFFICE']  \n",
       "...                                 ...  \n",
       "7571                                NaN  \n",
       "7572                                NaN  \n",
       "7573                                NaN  \n",
       "7574                                NaN  \n",
       "7575                                NaN  \n",
       "\n",
       "[7576 rows x 35 columns]"
      ]
     },
     "execution_count": 23,
     "metadata": {},
     "output_type": "execute_result"
    }
   ],
   "source": [
    "df"
   ]
  },
  {
   "cell_type": "code",
   "execution_count": 6,
   "metadata": {},
   "outputs": [
    {
     "data": {
      "text/plain": [
       "18298.337249208027"
      ]
     },
     "execution_count": 6,
     "metadata": {},
     "output_type": "execute_result"
    }
   ],
   "source": [
    "df['total_employees'].mean()"
   ]
  },
  {
   "cell_type": "code",
   "execution_count": 7,
   "metadata": {},
   "outputs": [
    {
     "data": {
      "text/plain": [
       "NOT_REMOTE        5485\n",
       "REMOTE_ENABLED    2091\n",
       "Name: remote_status, dtype: int64"
      ]
     },
     "execution_count": 7,
     "metadata": {},
     "output_type": "execute_result"
    }
   ],
   "source": [
    "df['remote_status'].value_counts()"
   ]
  },
  {
   "cell_type": "code",
   "execution_count": 8,
   "metadata": {},
   "outputs": [
    {
     "data": {
      "text/plain": [
       "Capital One               165\n",
       "JPMorgan Chase            137\n",
       "Warner Bros. Discovery     72\n",
       "Chewy                      70\n",
       "City National Bank         68\n",
       "                         ... \n",
       "CTS Engines                 1\n",
       "Stable Kernel               1\n",
       "LL Flooring                 1\n",
       "POLITICO                    1\n",
       "DealerOn                    1\n",
       "Name: company_title, Length: 2739, dtype: int64"
      ]
     },
     "execution_count": 8,
     "metadata": {},
     "output_type": "execute_result"
    }
   ],
   "source": [
    "df['company_title'].value_counts()"
   ]
  },
  {
   "cell_type": "code",
   "execution_count": 17,
   "metadata": {},
   "outputs": [
    {
     "data": {
      "text/plain": [
       "46253.67278247096"
      ]
     },
     "execution_count": 17,
     "metadata": {},
     "output_type": "execute_result"
    }
   ],
   "source": [
    "df['salary_max'].mean()"
   ]
  },
  {
   "cell_type": "code",
   "execution_count": 19,
   "metadata": {},
   "outputs": [
    {
     "data": {
      "text/plain": [
       "32315.509134107706"
      ]
     },
     "execution_count": 19,
     "metadata": {},
     "output_type": "execute_result"
    }
   ],
   "source": [
    "df['salary_min'].mean()"
   ]
  },
  {
   "cell_type": "code",
   "execution_count": 11,
   "metadata": {},
   "outputs": [
    {
     "data": {
      "text/plain": [
       "company_alias                                   /company/warner-bros-discovery\n",
       "company_perks                                                               []\n",
       "elite                                                                     True\n",
       "high_volume_poster                                                        True\n",
       "company_id                                                               64944\n",
       "job_slots                                                                    0\n",
       "limited_listing                                                          False\n",
       "locations                                                                  NaN\n",
       "premium                                                                  False\n",
       "company_title                                           Warner Bros. Discovery\n",
       "total_employees                                                              0\n",
       "job_alias                               /job/data/svp-digital-research/1509097\n",
       "job_description              Every great story has a new beginning, and you...\n",
       "category_id                                                                147\n",
       "company_size                                                               NaN\n",
       "easy_apply                                                               False\n",
       "yrs_experience                                                              7+\n",
       "hot_job_score                                                              0.0\n",
       "apply_link                   https://careers.wbd.com/global/en/job/R000060691/\n",
       "hybrid                                                                   False\n",
       "job_id                                                                 2497482\n",
       "industry_id                                               [175, 195, 200, 215]\n",
       "is_national                                                               True\n",
       "job_location                                                       Atlanta, GA\n",
       "original_location                                             Atlanta, Georgia\n",
       "remote                                                              NOT_REMOTE\n",
       "remote_status                                                       NOT_REMOTE\n",
       "salary_max                                                            499057.0\n",
       "salary_min                                                            268723.0\n",
       "salary_single_value                                                        0.0\n",
       "salary_type                                                             annual\n",
       "sort_date                                                  2023-03-03 05:35:58\n",
       "targeted_remote_locations                                                  NaN\n",
       "job_title                                                SVP, Digital Research\n",
       "working_options                                                  ['IN-OFFICE']\n",
       "Name: 35, dtype: object"
      ]
     },
     "execution_count": 11,
     "metadata": {},
     "output_type": "execute_result"
    }
   ],
   "source": [
    "df.loc[df['salary_max'].idxmax()]"
   ]
  },
  {
   "cell_type": "code",
   "execution_count": 12,
   "metadata": {},
   "outputs": [
    {
     "data": {
      "text/plain": [
       "499057.0"
      ]
     },
     "execution_count": 12,
     "metadata": {},
     "output_type": "execute_result"
    }
   ],
   "source": [
    "df.loc[df['salary_max'].idxmax()]['salary_max']"
   ]
  },
  {
   "cell_type": "code",
   "execution_count": 13,
   "metadata": {},
   "outputs": [
    {
     "data": {
      "text/plain": [
       "Remote                484\n",
       "New York, New York    184\n",
       "New York, NY          155\n",
       "United States         154\n",
       "Atlanta, Georgia      137\n",
       "                     ... \n",
       "Boston, MA, USA         1\n",
       "Spokane, WA             1\n",
       "Fremont, CA             1\n",
       "bangalore               1\n",
       "Portsmouth, NH          1\n",
       "Name: original_location, Length: 1481, dtype: int64"
      ]
     },
     "execution_count": 13,
     "metadata": {},
     "output_type": "execute_result"
    }
   ],
   "source": [
    "df['original_location'].value_counts()"
   ]
  },
  {
   "cell_type": "code",
   "execution_count": 14,
   "metadata": {},
   "outputs": [
    {
     "data": {
      "text/plain": [
       "company_alias                 object\n",
       "company_perks                 object\n",
       "elite                           bool\n",
       "high_volume_poster              bool\n",
       "company_id                     int64\n",
       "job_slots                      int64\n",
       "limited_listing                 bool\n",
       "locations                     object\n",
       "premium                         bool\n",
       "company_title                 object\n",
       "total_employees                int64\n",
       "job_alias                     object\n",
       "job_description               object\n",
       "category_id                    int64\n",
       "company_size                  object\n",
       "easy_apply                      bool\n",
       "yrs_experience                object\n",
       "hot_job_score                float64\n",
       "apply_link                    object\n",
       "hybrid                          bool\n",
       "job_id                         int64\n",
       "industry_id                   object\n",
       "is_national                     bool\n",
       "job_location                  object\n",
       "original_location             object\n",
       "remote                        object\n",
       "remote_status                 object\n",
       "salary_max                   float64\n",
       "salary_min                   float64\n",
       "salary_single_value          float64\n",
       "salary_type                   object\n",
       "sort_date                     object\n",
       "targeted_remote_locations     object\n",
       "job_title                     object\n",
       "working_options               object\n",
       "dtype: object"
      ]
     },
     "execution_count": 14,
     "metadata": {},
     "output_type": "execute_result"
    }
   ],
   "source": [
    "df.dtypes"
   ]
  },
  {
   "cell_type": "code",
   "execution_count": 16,
   "metadata": {},
   "outputs": [
    {
     "data": {
      "text/plain": [
       "1-3    2291\n",
       "3-5    2216\n",
       "5-7    1886\n",
       "7+     1175\n",
       "0         6\n",
       "1         2\n",
       "Name: yrs_experience, dtype: int64"
      ]
     },
     "execution_count": 16,
     "metadata": {},
     "output_type": "execute_result"
    }
   ],
   "source": [
    "df['yrs_experience'].value_counts()"
   ]
  }
 ],
 "metadata": {
  "kernelspec": {
   "display_name": "Python 3",
   "language": "python",
   "name": "python3"
  },
  "language_info": {
   "codemirror_mode": {
    "name": "ipython",
    "version": 3
   },
   "file_extension": ".py",
   "mimetype": "text/x-python",
   "name": "python",
   "nbconvert_exporter": "python",
   "pygments_lexer": "ipython3",
   "version": "3.10.8"
  },
  "orig_nbformat": 4
 },
 "nbformat": 4,
 "nbformat_minor": 2
}
